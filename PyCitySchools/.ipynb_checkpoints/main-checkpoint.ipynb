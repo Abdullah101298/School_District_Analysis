{
 "cells": [
  {
   "cell_type": "code",
   "execution_count": null,
   "metadata": {},
   "outputs": [],
   "source": [
    "import pandas as pd\n",
    "import os "
   ]
  },
  {
   "cell_type": "code",
   "execution_count": null,
   "metadata": {},
   "outputs": [],
   "source": [
    "school_data_to_load = os.path.join(\"..\",\"PyCitySchools\",\"Resources\",\"schools_complete.csv\")\n",
    "student_data_to_load = os.path.join(\"..\",\"PyCitySchools\",\"Resources\",\"students_complete.csv\")"
   ]
  },
  {
   "cell_type": "code",
   "execution_count": null,
   "metadata": {},
   "outputs": [],
   "source": [
    "school_data = pd.read_csv(school_data_to_load)\n",
    "student_data = pd.read_csv(student_data_to_load)"
   ]
  },
  {
   "cell_type": "code",
   "execution_count": null,
   "metadata": {},
   "outputs": [],
   "source": [
    "school_data_complete = pd.merge(student_data, school_data, how=\"left\", on=[\"school_name\", \"school_name\"])"
   ]
  },
  {
   "cell_type": "code",
   "execution_count": null,
   "metadata": {},
   "outputs": [],
   "source": [
    "#District Summary \n",
    "\n",
    "#Filtering the data based on (1) reading score above 69 and (2) math score above 69. \n",
    "reading_filter = school_data_complete[\"reading_score\"] > 69\n",
    "math_filter = school_data_complete[\"math_score\"] > 69\n",
    "\n",
    "#Create new array based on these filters\n",
    "new_read = school_data_complete[reading_filter]\n",
    "new_math = school_data_complete[math_filter]\n",
    "\n",
    "#Finding the length of the arrays to find the % Passing Math, % Passing Reading, and % Overall Passing Rate\n",
    "reading_length = new_read.shape[0]\n",
    "math_length = new_math.shape[0]\n",
    "normal_length = school_data_complete.shape[0]\n"
   ]
  },
  {
   "cell_type": "code",
   "execution_count": null,
   "metadata": {},
   "outputs": [],
   "source": [
    "#Create a new dataframe consisting of the District Summary completing the first task \n",
    "new_df = pd.DataFrame({\n",
    "    \"Total Schools\" : [len(school_data['school_name'])] , \n",
    "    \"Total Student\" : [len(school_data_complete['Student ID'])] , \n",
    "    \"Total Budget\"  : [\"${:,.2f}\".format(school_data['budget'].sum())], \n",
    "    \"Average Math Score\" : [round(school_data_complete[\"math_score\"].mean(),4)]  , \n",
    "    \"Average Reading Score\" : [round(school_data_complete[\"reading_score\"].mean(),4)], \n",
    "    \"% Passing Math \" : [round(math_length/normal_length,4)*100] , \n",
    "    \"% Passing Reading\" :  [round(reading_length/normal_length,4)*100] ,  \n",
    "    \"% Overall Passing Rate\" : [(round(school_data_complete[\"math_score\"].mean(),4) + round(school_data_complete[\"reading_score\"].mean(),4))/2]  \n",
    "\n",
    "})\n",
    "\n",
    "new_df "
   ]
  },
  {
   "cell_type": "code",
   "execution_count": null,
   "metadata": {},
   "outputs": [],
   "source": [
    "#School Summary - Task 2 \n",
    "\n",
    "#Define a new array with columns that we need \n",
    "School_Array = school_data_complete[[\"type\",\"school_name\",\"size\",\"budget\",\"math_score\",\"reading_score\"]]\n",
    "#Add a row consisting of the total budget divided by the number of students to find the per student budget \n",
    "School_Array[\"Per Student Budget\"] = School_Array.iloc[:,3] / School_Array.iloc[:,2] \n",
    "\n",
    "#Group the dataframe by mean math scores,budget, mean per student budget, and mean reading score\n",
    "School_Array_group = School_Array.groupby([\"school_name\"])\n",
    "School_Array_comparison = School_Array_group.mean()\n"
   ]
  },
  {
   "cell_type": "code",
   "execution_count": null,
   "metadata": {},
   "outputs": [],
   "source": [
    "#Filter the math and reading scores by passing scores \n",
    "mathscores_try = School_Array[\"math_score\"]\n",
    "readingscores_try = School_Array[\"reading_score\"]\n",
    "math_array=[]\n",
    "reading_array=[]\n",
    "for i in range(len(mathscores_try)): \n",
    "    if mathscores_try[i] > 69: \n",
    "        math_array.append(1)\n",
    "    else:\n",
    "        math_array.append(0)\n",
    "    if readingscores_try[i] > 69: \n",
    "        reading_array.append(1)\n",
    "    else:\n",
    "        reading_array.append(0)\n"
   ]
  },
  {
   "cell_type": "code",
   "execution_count": null,
   "metadata": {},
   "outputs": [],
   "source": [
    "#Convert the passing math and reading scores into array and then concatonate them with the new array defined earlier\n",
    "new_df_111 = pd.DataFrame(math_array)\n",
    "new_df_222 = pd.DataFrame(reading_array)\n",
    "\n",
    "new_df_111 = new_df_111.rename(columns={ 0:\"% Passing Math\"})\n",
    "new_df_222 = new_df_222.rename(columns={ 0:\"% Passing Reading\"})\n",
    "\n",
    "newdatamerged = pd.concat([School_Array, new_df_111,new_df_222], axis=1)\n",
    "\n",
    "#Adding two new rows showing the % passing math and the % passing reading \n",
    "newdatamerged[\"% Passing Math\"] = (newdatamerged.iloc[:,7] / newdatamerged.iloc[:,2])*100 \n",
    "newdatamerged[\"% Passing Reading\"] = (newdatamerged.iloc[:,8] / newdatamerged.iloc[:,2])*100 \n",
    "\n",
    "newdatamerged_new = newdatamerged[[\"school_name\",\"% Passing Math\",\"% Passing Reading\"]]\n",
    "\n",
    "#grouping the new data that was merge by the school name \n",
    "newdatamerged_group = newdatamerged_new.groupby([\"school_name\"])\n",
    "\n",
    "newdatamerged_comparison = newdatamerged_group.sum()\n",
    "\n",
    "#Added a new column showing the overall passing rate to the column \n",
    "newdatamerged_comparison [\"% Overall Passing Rate\"] = (newdatamerged_comparison.iloc[:,0] + newdatamerged_comparison.iloc[:,1])/2"
   ]
  },
  {
   "cell_type": "code",
   "execution_count": null,
   "metadata": {},
   "outputs": [],
   "source": [
    "#Merge the numerical data for the final result \n",
    "merge_try = pd.merge(School_Array_comparison,newdatamerged_comparison, on = \"school_name\")"
   ]
  },
  {
   "cell_type": "code",
   "execution_count": null,
   "metadata": {},
   "outputs": [],
   "source": [
    "#Create a new array displaying the type of each grouped school \n",
    "type_array=[]\n",
    "school_names = []\n",
    "for tt in range(len(School_Array)-1):\n",
    "    if School_Array.iloc[tt,1] != School_Array.iloc[tt-1,1]: \n",
    "        type_array.append(School_Array.iloc[tt,0])\n",
    "        school_names.append(School_Array.iloc[tt,1])\n",
    "\n",
    "new_type_df = pd.DataFrame(type_array,school_names)\n",
    "new_type_df = new_type_df.rename(columns={ 0:\"School Type\"})\n",
    "        "
   ]
  },
  {
   "cell_type": "code",
   "execution_count": null,
   "metadata": {},
   "outputs": [],
   "source": [
    "#Merged all the data to come up with final dataframe\n",
    "All_data = pd.concat([new_type_df, merge_try],axis=1)\n",
    "\n",
    "#Sort the data by top performing schools and bottom performing schools\n",
    "Sorted_Data_A = All_data.sort_values(\"% Overall Passing Rate\", ascending=False)\n",
    "Sorted_Data_D = All_data.sort_values(\"% Overall Passing Rate\")"
   ]
  },
  {
   "cell_type": "code",
   "execution_count": null,
   "metadata": {},
   "outputs": [],
   "source": [
    "#Top Performing Schools by Passing Rate \n",
    "Sorted_Data_A.head()"
   ]
  },
  {
   "cell_type": "code",
   "execution_count": null,
   "metadata": {},
   "outputs": [],
   "source": [
    "#Bottom Performing Schools by Passing Rate \n",
    "Sorted_Data_D.head()"
   ]
  },
  {
   "cell_type": "code",
   "execution_count": null,
   "metadata": {},
   "outputs": [],
   "source": [
    "#Defining empty arrays for each grade based on math or reading \n",
    "nine_gr_read = []\n",
    "nine_gr_math = []\n",
    "school_nine=[]\n",
    "ten_gr_read = []\n",
    "ten_gr_math = []\n",
    "school_ten=[]\n",
    "elev_gr_read = []\n",
    "elev_gr_math = []\n",
    "school_elev=[]\n",
    "twel_gr_read = []\n",
    "twel_gr_math = []\n",
    "school_twel=[]\n",
    "nine_test=student_data[\"grade\"]\n",
    "\n",
    "#For ever grade, we want to define the math scores and the reading scores and put them into a seperate array as well \n",
    "#as the schools associated with the scores. \n",
    "for rows in range(len(nine_test)): \n",
    "    if nine_test[rows] == \"9th\":\n",
    "        nine_gr_read.append(student_data.iloc[rows,5])\n",
    "        nine_gr_math.append(student_data.iloc[rows,6])\n",
    "        school_nine.append(student_data.iloc[rows,4])\n",
    "    elif nine_test[rows] == \"10th\": \n",
    "        ten_gr_read.append(student_data.iloc[rows,5])\n",
    "        ten_gr_math.append(student_data.iloc[rows,6])\n",
    "        school_ten.append(student_data.iloc[rows,4])\n",
    "    elif nine_test[rows] == \"11th\":\n",
    "        elev_gr_read.append(student_data.iloc[rows,5])\n",
    "        elev_gr_math.append(student_data.iloc[rows,6])\n",
    "        school_elev.append(student_data.iloc[rows,4])\n",
    "    elif nine_test[rows] == \"12th\": \n",
    "        twel_gr_read.append(student_data.iloc[rows,5])\n",
    "        twel_gr_math.append(student_data.iloc[rows,6])\n",
    "        school_twel.append(student_data.iloc[rows,4])\n",
    "        "
   ]
  },
  {
   "cell_type": "code",
   "execution_count": null,
   "metadata": {},
   "outputs": [],
   "source": [
    "#Reading Score by Grade \n",
    "#Creating a data frame for each grade for the reading scores. \n",
    "new_type_nine = pd.DataFrame({'school_name': school_nine,'9th grade': list(nine_gr_read)})\n",
    "new_type_ten = pd.DataFrame({'school_name': school_ten,'10th grade': list(ten_gr_read)})\n",
    "new_type_elev = pd.DataFrame({'school_name': school_elev,'11th grade': list(elev_gr_read)})\n",
    "new_type_twel = pd.DataFrame({'school_name': school_twel,'12th grade': list(twel_gr_read)})\n",
    "\n",
    "#Grouping each dataframe by school (NOT IN THE SAME DATAFRAME BECAUSE THEY ARE DIFFERENT SIZES)\n",
    "newdatamerged_nine = new_type_nine.groupby([\"school_name\"])\n",
    "newdatamerged_nine = newdatamerged_nine.mean()\n",
    "newdatamerged_ten = new_type_ten.groupby([\"school_name\"])\n",
    "newdatamerged_ten = newdatamerged_ten.mean()\n",
    "newdatamerged_elev = new_type_elev.groupby([\"school_name\"])\n",
    "newdatamerged_elev = newdatamerged_elev.mean()\n",
    "newdatamerged_twel = new_type_twel.groupby([\"school_name\"])\n",
    "newdatamerged_twel = newdatamerged_twel.mean()"
   ]
  },
  {
   "cell_type": "code",
   "execution_count": null,
   "metadata": {},
   "outputs": [],
   "source": [
    "#Merging all of the data because they are now of equal size \n",
    "merge_grade = pd.merge(newdatamerged_nine,newdatamerged_ten, on = \"school_name\")\n",
    "merge_grade1 = pd.merge(merge_grade,newdatamerged_elev, on = \"school_name\")\n",
    "merge_grade2 = pd.merge(merge_grade1,newdatamerged_twel, on = \"school_name\")\n"
   ]
  },
  {
   "cell_type": "code",
   "execution_count": null,
   "metadata": {},
   "outputs": [],
   "source": [
    "#Average Reading Score per Grade \n",
    "merge_grade2"
   ]
  },
  {
   "cell_type": "code",
   "execution_count": null,
   "metadata": {},
   "outputs": [],
   "source": [
    "#Math Score by Grade \n",
    "#Creating a data frame for each grade for the math scores. \n",
    "new_type_ninem = pd.DataFrame({'school_name': school_nine,'9th grade': list(nine_gr_math)})\n",
    "new_type_tenm = pd.DataFrame({'school_name': school_ten,'10th grade': list(ten_gr_math)})\n",
    "new_type_elevm = pd.DataFrame({'school_name': school_elev,'11th grade': list(elev_gr_math)})\n",
    "new_type_twelm = pd.DataFrame({'school_name': school_twel,'12th grade': list(twel_gr_math)})\n",
    "\n",
    "#Grouping each dataframe by school (NOT IN THE SAME DATAFRAME BECAUSE THEY ARE DIFFERENT SIZES)\n",
    "newdatamerged_ninem = new_type_ninem.groupby([\"school_name\"])\n",
    "newdatamerged_ninem = newdatamerged_ninem.mean()\n",
    "newdatamerged_tenm = new_type_tenm.groupby([\"school_name\"])\n",
    "newdatamerged_tenm = newdatamerged_tenm.mean()\n",
    "newdatamerged_elevm = new_type_elevm.groupby([\"school_name\"])\n",
    "newdatamerged_elevm = newdatamerged_elevm.mean()\n",
    "newdatamerged_twelm = new_type_twelm.groupby([\"school_name\"])\n",
    "newdatamerged_twelm = newdatamerged_twelm.mean()"
   ]
  },
  {
   "cell_type": "code",
   "execution_count": null,
   "metadata": {},
   "outputs": [],
   "source": [
    "#Merging all of the data because they are now of equal size \n",
    "merge_gradem = pd.merge(newdatamerged_ninem,newdatamerged_tenm, on = \"school_name\")\n",
    "merge_grade1m = pd.merge(merge_gradem,newdatamerged_elevm, on = \"school_name\")\n",
    "merge_grade2m = pd.merge(merge_grade1m,newdatamerged_twelm, on = \"school_name\")"
   ]
  },
  {
   "cell_type": "code",
   "execution_count": null,
   "metadata": {},
   "outputs": [],
   "source": [
    "#Average Math Score per Grade filtered by school \n",
    "merge_grade2m"
   ]
  },
  {
   "cell_type": "code",
   "execution_count": null,
   "metadata": {},
   "outputs": [],
   "source": [
    "#Scores by School Spending Section \n",
    "\n",
    "#Defining bin sizes and the corresponding names of the bins \n",
    "spending_bins = [0, 585, 615, 645, 675]\n",
    "group_names = [\"<$585\", \"$585-615\", \"$615-645\", \"$645-675\"]\n",
    "alldata1 = All_data \n",
    "\n",
    "#Creating a new dataframe  \n",
    "new_alld = pd.DataFrame({'budget': list(alldata1['Per Student Budget']), \n",
    "                         'Average Math Score': list(alldata1['math_score']), \n",
    "                         'Average Reading Score': list(alldata1['reading_score']),\n",
    "                         '% Passing Math': list(alldata1['% Passing Math']),\n",
    "                         '% Passing Reading': list(alldata1['% Passing Reading']),\n",
    "                         '% Passing Rate': list(alldata1['% Overall Passing Rate'])\n",
    "})\n",
    "alldata2 = new_alld\n",
    "#Cutting the dataframe by the bin size and defining the labels \n",
    "alldata2[\"Spending Ranges (Per Student)\"] = pd.cut(alldata2['budget'], spending_bins, labels=group_names)\n"
   ]
  },
  {
   "cell_type": "code",
   "execution_count": null,
   "metadata": {},
   "outputs": [],
   "source": [
    "#Grouping the data by the spending ranges \n",
    "binstry1 = alldata2.groupby(\"Spending Ranges (Per Student)\")\n",
    "Ranges_df1 = binstry1.mean()"
   ]
  },
  {
   "cell_type": "code",
   "execution_count": null,
   "metadata": {},
   "outputs": [],
   "source": [
    "#Scores by School Spending\n",
    "Ranges_df = Ranges_df1.drop(['budget'], axis=1)\n",
    "Ranges_df"
   ]
  },
  {
   "cell_type": "code",
   "execution_count": null,
   "metadata": {},
   "outputs": [],
   "source": [
    "#Scores by School Size Section\n",
    "#Defining bin sizes and the corresponding names of the bins\n",
    "size_bins = [0, 1000, 2000, 5000]\n",
    "group_names = [\"Small (<1000)\", \"Medium (1000-2000)\", \"Large (2000-5000)\"]\n",
    "\n",
    "#Creating a new dataframe  \n",
    "alldata123 = All_data \n",
    "new_alld123 = pd.DataFrame({'School Size': list(alldata123['size']), \n",
    "                         'Average Math Score': list(alldata123['math_score']), \n",
    "                         'Average Reading Score': list(alldata123['reading_score']),\n",
    "                         '% Passing Math': list(alldata123['% Passing Math']),\n",
    "                         '% Passing Reading': list(alldata123['% Passing Reading']),\n",
    "                         '% Passing Rate': list(alldata123['% Overall Passing Rate'])\n",
    "})\n",
    "#Cutting the dataframe by the bin size and defining the labels \n",
    "alldata3 = new_alld123\n",
    "alldata3[\"School Size\"] = pd.cut(alldata3['School Size'], size_bins, labels=group_names)"
   ]
  },
  {
   "cell_type": "code",
   "execution_count": null,
   "metadata": {},
   "outputs": [],
   "source": [
    "#Scores by School Size\n",
    "#Grouping the data by the school size\n",
    "binstry2 = alldata3.groupby(\"School Size\")\n",
    "binstry2.mean()"
   ]
  },
  {
   "cell_type": "code",
   "execution_count": null,
   "metadata": {},
   "outputs": [],
   "source": [
    "#Scores by school type \n",
    "#Defining bin sizes and the corresponding names of the bins\n",
    "bins=[1,2,3]\n",
    "name_bins = [\"Charter\",\"District\"]\n",
    "\n",
    "#Creating a new dataframe  \n",
    "alldata456 = All_data \n",
    "new_alld456 = pd.DataFrame({'School type': alldata456['School Type'], \n",
    "                         'Average Math Score': list(alldata456['math_score']), \n",
    "                         'Average Reading Score': list(alldata456['reading_score']),\n",
    "                         '% Passing Math': list(alldata456['% Passing Math']),\n",
    "                         '% Passing Reading': list(alldata456['% Passing Reading']),\n",
    "                         '% Passing Rate': list(alldata456['% Overall Passing Rate'])\n",
    "})\n",
    "\n",
    "#Grouping the data by the school size\n",
    "new_alld456_group = new_alld456.groupby([\"School type\"])\n",
    "new_alld456_comparison = new_alld456_group.mean()\n",
    "new_alld456_comparison"
   ]
  }
 ],
 "metadata": {
  "kernelspec": {
   "display_name": "Python 3",
   "language": "python",
   "name": "python3"
  },
  "language_info": {
   "codemirror_mode": {
    "name": "ipython",
    "version": 3
   },
   "file_extension": ".py",
   "mimetype": "text/x-python",
   "name": "python",
   "nbconvert_exporter": "python",
   "pygments_lexer": "ipython3",
   "version": "3.7.4"
  }
 },
 "nbformat": 4,
 "nbformat_minor": 2
}
